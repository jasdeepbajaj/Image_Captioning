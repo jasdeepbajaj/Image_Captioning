{
  "nbformat": 4,
  "nbformat_minor": 0,
  "metadata": {
    "colab": {
      "provenance": [],
      "authorship_tag": "ABX9TyPmRgtEsINb/Vgo2PbJRCbB",
      "include_colab_link": true
    },
    "kernelspec": {
      "name": "python3",
      "display_name": "Python 3"
    },
    "language_info": {
      "name": "python"
    }
  },
  "cells": [
    {
      "cell_type": "markdown",
      "metadata": {
        "id": "view-in-github",
        "colab_type": "text"
      },
      "source": [
        "<a href=\"https://colab.research.google.com/github/jasdeepbajaj/Image_Captioning/blob/main/Image_Captioning.ipynb\" target=\"_parent\"><img src=\"https://colab.research.google.com/assets/colab-badge.svg\" alt=\"Open In Colab\"/></a>"
      ]
    },
    {
      "cell_type": "code",
      "execution_count": 1,
      "metadata": {
        "colab": {
          "base_uri": "https://localhost:8080/"
        },
        "id": "mvgzEVUlRrZ_",
        "outputId": "d320bbbe-5a8a-4832-8de8-15aeec2f7427"
      },
      "outputs": [
        {
          "output_type": "stream",
          "name": "stdout",
          "text": [
            "Mounted at /content/drive\n"
          ]
        }
      ],
      "source": [
        "from google.colab import drive\n",
        "drive.mount('/content/drive')"
      ]
    },
    {
      "cell_type": "code",
      "source": [
        "import os\n",
        "import sys\n",
        "from pycocotools.coco import COCO\n",
        "import urllib\n",
        "import zipfile\n",
        "\n",
        "import numpy as np\n",
        "import skimage.io as io\n",
        "import matplotlib.pyplot as plt\n",
        "%matplotlib inline\n",
        "\n",
        "import nltk\n",
        "nltk.download('punkt')\n",
        "\n",
        "import torch\n",
        "import torch.utils.data as data\n",
        "from PIL import Image\n",
        "import numpy as np\n",
        "from tqdm import tqdm\n",
        "import random\n",
        "import json\n",
        "import pickle\n",
        "from collections import Counter\n",
        "\n",
        "from torchvision import transforms\n",
        "\n",
        "import torch.utils.data as data\n",
        "\n",
        "import torch\n",
        "import torch.nn as nn\n",
        "import torchvision.models as models\n",
        "from torchvision.models import ResNet50_Weights"
      ],
      "metadata": {
        "colab": {
          "base_uri": "https://localhost:8080/"
        },
        "id": "OogEwshCRxGM",
        "outputId": "ad42c6f8-22b7-483f-b197-931ba90205d6"
      },
      "execution_count": 96,
      "outputs": [
        {
          "output_type": "stream",
          "name": "stderr",
          "text": [
            "[nltk_data] Downloading package punkt to /root/nltk_data...\n",
            "[nltk_data]   Package punkt is already up-to-date!\n"
          ]
        }
      ]
    },
    {
      "cell_type": "code",
      "source": [
        "os.makedirs('opt' , exist_ok=True)\n",
        "os.chdir( '/content/opt' )\n",
        "!git clone 'https://github.com/cocodataset/cocoapi.git'"
      ],
      "metadata": {
        "id": "iQ2K9FP7SOY3",
        "colab": {
          "base_uri": "https://localhost:8080/"
        },
        "outputId": "0b9d899b-e766-4d24-c953-44aed4c36a70"
      },
      "execution_count": 3,
      "outputs": [
        {
          "output_type": "stream",
          "name": "stdout",
          "text": [
            "Cloning into 'cocoapi'...\n",
            "remote: Enumerating objects: 975, done.\u001b[K\n",
            "remote: Total 975 (delta 0), reused 0 (delta 0), pack-reused 975\u001b[K\n",
            "Receiving objects: 100% (975/975), 11.72 MiB | 24.70 MiB/s, done.\n",
            "Resolving deltas: 100% (576/576), done.\n"
          ]
        }
      ]
    },
    {
      "cell_type": "code",
      "source": [
        "os.chdir('/content/opt/cocoapi')\n",
        "\n",
        "# Download the annotation :\n",
        "annotations_trainval2014 = 'http://images.cocodataset.org/annotations/annotations_trainval2014.zip'\n",
        "image_info_test2014 = 'http://images.cocodataset.org/annotations/image_info_test2014.zip'\n",
        "\n",
        "urllib.request.urlretrieve(annotations_trainval2014 , filename = 'annotations_trainval2014.zip' )\n",
        "urllib.request.urlretrieve(image_info_test2014 , filename= 'image_info_test2014.zip' )"
      ],
      "metadata": {
        "colab": {
          "base_uri": "https://localhost:8080/"
        },
        "id": "GtKqbEkJmDUV",
        "outputId": "6cd6b899-8b98-4b6d-9a27-3bd6174bccf7"
      },
      "execution_count": 4,
      "outputs": [
        {
          "output_type": "execute_result",
          "data": {
            "text/plain": [
              "('image_info_test2014.zip', <http.client.HTTPMessage at 0x7b157e92a800>)"
            ]
          },
          "metadata": {},
          "execution_count": 4
        }
      ]
    },
    {
      "cell_type": "code",
      "source": [
        "with zipfile.ZipFile('annotations_trainval2014.zip' , 'r') as zip_ref:\n",
        "  zip_ref.extractall( '/content/opt/cocoapi'  )\n",
        "\n",
        "try:\n",
        "  os.remove( 'annotations_trainval2014.zip' )\n",
        "  print('zip removed')\n",
        "except:\n",
        "  None\n",
        "\n",
        "with zipfile.ZipFile('image_info_test2014.zip' , 'r') as zip_ref:\n",
        "  zip_ref.extractall( '/content/opt/cocoapi'  )\n",
        "\n",
        "try:\n",
        "  os.remove( 'image_info_test2014.zip' )\n",
        "  print('zip removed')\n",
        "except:\n",
        "  None"
      ],
      "metadata": {
        "colab": {
          "base_uri": "https://localhost:8080/"
        },
        "id": "DaDzXEHOoR30",
        "outputId": "24753798-df06-4bd3-8317-cb4f9869b12e"
      },
      "execution_count": 5,
      "outputs": [
        {
          "output_type": "stream",
          "name": "stdout",
          "text": [
            "zip removed\n",
            "zip removed\n"
          ]
        }
      ]
    },
    {
      "cell_type": "code",
      "source": [
        "dataDir = '/content/opt/cocoapi'\n",
        "dataType = 'val2014'\n",
        "instances_annFile = os.path.join(dataDir, 'annotations/instances_{}.json'.format(dataType))\n",
        "coco = COCO(instances_annFile)\n",
        "\n",
        "captions_annFile = os.path.join(dataDir, 'annotations/captions_{}.json'.format(dataType))\n",
        "coco_caps = COCO(captions_annFile)\n",
        "\n",
        "ids = list(coco.anns.keys())"
      ],
      "metadata": {
        "colab": {
          "base_uri": "https://localhost:8080/"
        },
        "id": "4mDu5qgcoWz7",
        "outputId": "00449ce3-e6e1-4a9d-b154-dff20d4179a3"
      },
      "execution_count": 6,
      "outputs": [
        {
          "output_type": "stream",
          "name": "stdout",
          "text": [
            "loading annotations into memory...\n",
            "Done (t=6.72s)\n",
            "creating index...\n",
            "index created!\n",
            "loading annotations into memory...\n",
            "Done (t=0.41s)\n",
            "creating index...\n",
            "index created!\n"
          ]
        }
      ]
    },
    {
      "cell_type": "code",
      "source": [
        "# pick a random image and obtain the corresponding URL\n",
        "ann_id = np.random.choice(ids)\n",
        "img_id = coco.anns[ann_id]['image_id']\n",
        "img = coco.loadImgs(img_id)[0]\n",
        "url = img['coco_url']\n",
        "\n",
        "# print URL and visualize corresponding image\n",
        "print(url)\n",
        "I = io.imread(url)\n",
        "plt.axis('off')\n",
        "plt.imshow(I)\n",
        "plt.show()\n",
        "\n",
        "# load and display captions\n",
        "annIds = coco_caps.getAnnIds(imgIds=img['id']);\n",
        "anns = coco_caps.loadAnns(annIds)\n",
        "coco_caps.showAnns(anns)"
      ],
      "metadata": {
        "colab": {
          "base_uri": "https://localhost:8080/",
          "height": 510
        },
        "id": "D0KVOAoronJv",
        "outputId": "c47810e7-310b-4340-9306-269d27b017ac"
      },
      "execution_count": 7,
      "outputs": [
        {
          "output_type": "stream",
          "name": "stdout",
          "text": [
            "http://images.cocodataset.org/val2014/COCO_val2014_000000505831.jpg\n"
          ]
        },
        {
          "output_type": "display_data",
          "data": {
            "text/plain": [
              "<Figure size 640x480 with 1 Axes>"
            ],
            "image/png": "[encoded data removed]"
          },
          "metadata": {}
        },
        {
          "output_type": "stream",
          "name": "stdout",
          "text": [
            "A bus driving down a city street during the day.\n",
            "Traffic on a street with a bus going through an intersection.\n",
            "a line of autos traveling down city street \n",
            "A bus drives down a lane of a city street.\n",
            "Buses going through several intersections with their headlights on\n"
          ]
        }
      ]
    },
    {
      "cell_type": "code",
      "source": [],
      "metadata": {
        "id": "6a1qtXSFpG5w"
      },
      "execution_count": 7,
      "outputs": []
    },
    {
      "cell_type": "code",
      "source": [
        "os.chdir('/content/opt/cocoapi')\n",
        "\n",
        "train2014 = 'http://images.cocodataset.org/zips/train2014.zip'\n",
        "test2014 = 'http://images.cocodataset.org/zips/test2014.zip'\n",
        "val2014 = 'http://images.cocodataset.org/zips/val2014.zip'\n",
        "\n",
        "urllib.request.urlretrieve( train2014 , 'train2014' )\n",
        "urllib.request.urlretrieve( test2014 , 'test2014' )\n",
        "urllib.request.urlretrieve( val2014 , 'val2014' )"
      ],
      "metadata": {
        "colab": {
          "base_uri": "https://localhost:8080/"
        },
        "id": "fDsf2bgWfxRH",
        "outputId": "5e07e924-1128-4f6d-9da3-55d8a7bf6906"
      },
      "execution_count": 8,
      "outputs": [
        {
          "output_type": "execute_result",
          "data": {
            "text/plain": [
              "('val2014', <http.client.HTTPMessage at 0x7b166cc12ec0>)"
            ]
          },
          "metadata": {},
          "execution_count": 8
        }
      ]
    },
    {
      "cell_type": "code",
      "source": [
        "os.chdir('/content/opt/cocoapi')\n",
        "with zipfile.ZipFile( 'train2014' , 'r' ) as zip_ref:\n",
        "  zip_ref.extractall( 'images' )\n",
        "\n",
        "try:\n",
        "  os.remove( 'train2014' )\n",
        "  print('zip removed')\n",
        "except:\n",
        "  None\n",
        "\n",
        "os.chdir('/content/opt/cocoapi')\n",
        "with zipfile.ZipFile( 'val2014' , 'r' ) as zip_ref:\n",
        "  zip_ref.extractall( 'images' )\n",
        "\n",
        "try:\n",
        "  os.remove( 'val2014' )\n",
        "  print('zip removed')\n",
        "except:\n",
        "  None\n",
        "\n",
        "os.chdir('/content/opt/cocoapi')\n",
        "with zipfile.ZipFile( 'test2014' , 'r' ) as zip_ref:\n",
        "  zip_ref.extractall( 'images' )\n",
        "\n",
        "try:\n",
        "  os.remove( 'test2014' )\n",
        "  print('zip removed')\n",
        "except:\n",
        "  None"
      ],
      "metadata": {
        "colab": {
          "base_uri": "https://localhost:8080/"
        },
        "id": "aSSrkaR3f11t",
        "outputId": "3ba00eec-8b69-499c-f130-035aa9396a2d"
      },
      "execution_count": 9,
      "outputs": [
        {
          "output_type": "stream",
          "name": "stdout",
          "text": [
            "zip removed\n",
            "zip removed\n",
            "zip removed\n"
          ]
        }
      ]
    },
    {
      "cell_type": "code",
      "source": [],
      "metadata": {
        "id": "dZ9KndRVGeW_"
      },
      "execution_count": 9,
      "outputs": []
    },
    {
      "cell_type": "code",
      "source": [
        "class Vocabulary(object):\n",
        "  def __init__(self, vocab_threshold, vocab_file=\"/content/vocab.pkl\", start_word = \"<start>\", end_word = \"<end>\", unk_word = \"<unk>\", annotations_file = \"/content/opt/cocoapi/annotations/captions_train2014.json\", vocab_from_file = False):\n",
        "    self.vocab_threshold = vocab_threshold\n",
        "    self.vocab_file = vocab_file\n",
        "    self.start_word = start_word\n",
        "    self.end_word = end_word\n",
        "    self.unk_word = unk_word\n",
        "    self.annotations_file = annotations_file\n",
        "    self.vocab_from_file = vocab_from_file\n",
        "    self.get_vocab()\n",
        "\n",
        "  def get_vocab(self):\n",
        "    \"\"\"Load the vocabulary from file or build the vocabulary from scratch\"\"\"\n",
        "    if os.path.exists(self.vocab_file) and self.vocab_from_file:\n",
        "      with open(self.vocab_file, 'rb') as f:\n",
        "        vocab = pickle.load(f)\n",
        "        self.word2idx = vocab.word2idx\n",
        "        self.idx2word = vocab.idx2word\n",
        "      print(\"Vocabulary Successfully Loaded from vocab.pkl file\")\n",
        "\n",
        "    else:\n",
        "      self.build_vocab()\n",
        "      with open(self.vocab_file, 'wb') as f:\n",
        "        pickle.dump(self, f)\n",
        "      print(\"Vocabulary Successfully Saved to vocab.pkl file\")\n",
        "\n",
        "  def build_vocab(self):\n",
        "    \"\"\"Populate the dictionaries for converting tokens to integers (and vice-versa).\"\"\"\n",
        "    self.init_vocab()\n",
        "    self.add_word(self.start_word)\n",
        "    self.add_word(self.end_word)\n",
        "    self.add_word(self.unk_word)\n",
        "    self.add_captions()\n",
        "\n",
        "  def init_vocab(self):\n",
        "    \"\"\"Initialize the dictionaries for converting tokens to integers (and vice-versa).\"\"\"\n",
        "    self.word2idx = {}\n",
        "    self.idx2word = {}\n",
        "    self.idx = 0\n",
        "\n",
        "  def add_word(self, word):\n",
        "    \"\"\"Add a token to the vocabulary.\"\"\"\n",
        "    if not word in self.word2idx:\n",
        "      self.word2idx[word] = self.idx\n",
        "      self.idx2word[self.idx] = word\n",
        "      self.idx += 1\n",
        "\n",
        "  def add_captions(self):\n",
        "    \"\"\"Loop over training captions and add all tokens to the vocabulary that meet or exceed the threshold.\"\"\"\n",
        "    coco = COCO(self.annotations_file)\n",
        "    counter = Counter()\n",
        "    ids = coco.anns.keys()\n",
        "    for i, id in enumerate(ids):\n",
        "      caption = str(coco.anns[id]['caption'])\n",
        "      tokens = nltk.tokenize.word_tokenize(caption.lower())\n",
        "      counter.update(tokens)\n",
        "\n",
        "      if i% 100000 == 0:\n",
        "        print(\"[%d/%d] Tokenizing captions...\" % (i, len(ids)))\n",
        "\n",
        "    words = [word for word, cnt in counter.items() if cnt >= self.vocab_threshold]\n",
        "\n",
        "    for i, word in enumerate(words):\n",
        "      self.add_word(word)\n",
        "\n",
        "  def __call__(self, word):\n",
        "    if not word in self.word2idx:\n",
        "      return self.word2idx[self.unk_word]\n",
        "\n",
        "    return self.word2idx[word]\n",
        "\n",
        "  def __len__(self):\n",
        "    return len(self.word2idx)"
      ],
      "metadata": {
        "id": "2ouMEbsIsxXW"
      },
      "execution_count": 51,
      "outputs": []
    },
    {
      "cell_type": "code",
      "source": [
        "class CoCoDataset(data.Dataset):\n",
        "  def __init__(self, transform, mode, batch_size, vocab_threshold, vocab_file, start_word, end_word,\n",
        "               unk_word, annotations_file, vocab_from_file, img_folder):\n",
        "    self.transform = transform\n",
        "    self.mode = mode\n",
        "    self.batch_size = batch_size\n",
        "    self.vocab = Vocabulary(vocab_threshold, vocab_file, start_word, end_word, unk_word, annotations_file,\n",
        "                            vocab_from_file)\n",
        "    self.img_folder = img_folder\n",
        "    if self.mode == \"train\":\n",
        "      self.coco = COCO(annotations_file)\n",
        "      self.ids = list(self.coco.anns.keys())\n",
        "      print(\"Obtaining Captions lengths...\")\n",
        "      all_tokens = [nltk.tokenize.word_tokenize(str(self.coco.anns[self.ids[index]]['caption']).lower()) for index in tqdm(np.arange(len(self.ids)))]\n",
        "      self.caption_lengths = [len(token) for token in all_tokens]\n",
        "\n",
        "    else:\n",
        "      test_info = json.load(open(annotations_file).read())\n",
        "      self.paths = [item['file_name'] for item in test_info['images']]\n",
        "\n",
        "  def __getitem__(self, index):\n",
        "    if self.mode == \"train\":\n",
        "      ann_id = self.ids[index]\n",
        "      caption = self.coco.anns[ann_id]['caption']\n",
        "      img_id = self.coco.anns[ann_id]['image_id']\n",
        "      path = self.coco.loadImgs(img_id)[0]['file_name']\n",
        "\n",
        "      image = Image.open(os.path.join(self.img_folder, path)).convert('RGB')\n",
        "      image = self.transform(image)\n",
        "\n",
        "      # Convert caption to tensor of word ids.\n",
        "      tokens = nltk.tokenize.word_tokenize(str(caption).lower())\n",
        "      caption = []\n",
        "      caption.append(self.vocab(self.vocab.start_word))\n",
        "      caption.extend([self.vocab(token) for token in tokens])\n",
        "      caption.append(self.vocab(self.vocab.end_word))\n",
        "      caption = torch.Tensor(caption).long()\n",
        "\n",
        "      # return pre-processed image and caption tensors\n",
        "      return image, caption\n",
        "\n",
        "    else:\n",
        "\n",
        "      path = self.paths[index]\n",
        "\n",
        "      # Convert image to tensor and pre-process using transform\n",
        "      PIL_image = Image.open(os.path.join(self.img_folder, path)).convert('RGB')\n",
        "      orig_image = np.array(PIL_image)\n",
        "      image = self.transform(PIL_image)\n",
        "\n",
        "      # return original image and pre-processed image tensor\n",
        "      return orig_image, image\n",
        "\n",
        "  def get_train_indices(self):\n",
        "    sel_length = np.random.choice(self.caption_lengths)\n",
        "    all_indices = np.where([self.caption_lengths[i] == sel_length for i in np.arange(len(self.caption_lengths))])[0]\n",
        "    indices = list(np.random.choice(all_indices, size=self.batch_size))\n",
        "    return indices\n",
        "\n",
        "  def __len__(self):\n",
        "    if self.mode == 'train':\n",
        "        return len(self.ids)\n",
        "    else:\n",
        "        return len(self.paths)"
      ],
      "metadata": {
        "id": "0YHUrM4hoy1e"
      },
      "execution_count": 52,
      "outputs": []
    },
    {
      "cell_type": "code",
      "source": [
        "def get_loader(transform, mode='train', batch_size=1, vocab_threshold=None, vocab_file='./vocab.pkl', start_word=\"<start>\", end_word=\"<end>\", unk_word=\"<unk>\", vocab_from_file=True, num_workers=0, cocoapi_loc='/content/opt'):\n",
        "  assert mode in ['train', 'test'], \"mode must be one of 'train' or 'test'.\"\n",
        "  if vocab_from_file==False: assert mode=='train', \"To generate vocab from captions file, must be in training mode (mode='train').\"\n",
        "\n",
        "  if mode == 'train':\n",
        "    if vocab_from_file==True: assert os.path.exists(vocab_file), \"vocab_file does not exist.  Change vocab_from_file to False to create vocab_file.\"\n",
        "    img_folder = os.path.join(cocoapi_loc, 'cocoapi/images/train2014/')\n",
        "    annotations_file = os.path.join(cocoapi_loc, 'cocoapi/annotations/captions_train2014.json')\n",
        "\n",
        "  if mode == 'test':\n",
        "    assert batch_size==1, \"Please change batch_size to 1 if testing your model.\"\n",
        "    assert os.path.exists(vocab_file), \"Must first generate vocab.pkl from training data.\"\n",
        "    assert vocab_from_file==True, \"Change vocab_from_file to True.\"\n",
        "    img_folder = os.path.join(cocoapi_loc, 'cocoapi/images/test2014/')\n",
        "    annotations_file = os.path.join(cocoapi_loc, 'cocoapi/annotations/image_info_test2014.json')\n",
        "\n",
        "  dataset = CoCoDataset(transform=transform, mode=mode, batch_size=batch_size, vocab_threshold=vocab_threshold, vocab_file=vocab_file, start_word=start_word, end_word=end_word, unk_word=unk_word, annotations_file=annotations_file,\n",
        "                          vocab_from_file=vocab_from_file, img_folder=img_folder)\n",
        "\n",
        "\n",
        "  if mode == 'train':\n",
        "    # Randomly sample a caption length, and sample indices with that length.\n",
        "    indices = dataset.get_train_indices()\n",
        "    # Create and assign a batch sampler to retrieve a batch with the sampled indices.\n",
        "    initial_sampler = data.sampler.SubsetRandomSampler(indices=indices)\n",
        "    # data loader for COCO dataset.\n",
        "    data_loader = data.DataLoader(dataset=dataset, num_workers=num_workers, batch_sampler=data.sampler.BatchSampler(sampler=initial_sampler, batch_size=dataset.batch_size,drop_last=False))\n",
        "\n",
        "  else:\n",
        "    data_loader = data.DataLoader(dataset=dataset, batch_size=dataset.batch_size, shuffle=True, num_workers=num_workers)\n",
        "\n",
        "  return data_loader"
      ],
      "metadata": {
        "id": "q6RSy0mY-Hcv"
      },
      "execution_count": 53,
      "outputs": []
    },
    {
      "cell_type": "code",
      "source": [
        "transform_train = transforms.Compose([\n",
        "    transforms.Resize(256),                          # smaller edge of image resized to 256\n",
        "    transforms.RandomCrop(224),                      # get 224x224 crop from random location\n",
        "    transforms.RandomHorizontalFlip(),               # horizontally flip image with probability=0.5\n",
        "    transforms.ToTensor(),                           # convert the PIL Image to a tensor\n",
        "    transforms.Normalize((0.485, 0.456, 0.406),      # normalize image for pre-trained model\n",
        "                         (0.229, 0.224, 0.225))])\n",
        "\n",
        "vocab_threshold = 5\n",
        "\n",
        "batch_size = 10\n",
        "\n",
        "data_loader = get_loader(transform=transform_train, mode='train', batch_size=batch_size, vocab_threshold=vocab_threshold, vocab_from_file=False, cocoapi_loc = '/content/opt')"
      ],
      "metadata": {
        "colab": {
          "base_uri": "https://localhost:8080/"
        },
        "id": "_jVfg_BS_gwZ",
        "outputId": "76764b3b-eecf-41e6-9095-34ebe6129692"
      },
      "execution_count": 54,
      "outputs": [
        {
          "output_type": "stream",
          "name": "stdout",
          "text": [
            "loading annotations into memory...\n",
            "Done (t=0.80s)\n",
            "creating index...\n",
            "index created!\n",
            "[0/414113] Tokenizing captions...\n",
            "[100000/414113] Tokenizing captions...\n",
            "[200000/414113] Tokenizing captions...\n",
            "[300000/414113] Tokenizing captions...\n",
            "[400000/414113] Tokenizing captions...\n",
            "Vocabulary Successfully Saved to vocab.pkl file\n",
            "loading annotations into memory...\n",
            "Done (t=0.72s)\n",
            "creating index...\n",
            "index created!\n",
            "Obtaining Captions lengths...\n"
          ]
        },
        {
          "output_type": "stream",
          "name": "stderr",
          "text": [
            "100%|██████████| 414113/414113 [01:01<00:00, 6754.04it/s]\n"
          ]
        }
      ]
    },
    {
      "cell_type": "code",
      "source": [
        "sample_caption = 'A person doing a trick on a rail while riding a skateboard.'"
      ],
      "metadata": {
        "id": "vJAQ2tOZAPqu"
      },
      "execution_count": 55,
      "outputs": []
    },
    {
      "cell_type": "code",
      "source": [
        "import nltk\n",
        "\n",
        "sample_tokens = nltk.tokenize.word_tokenize(str(sample_caption).lower())\n",
        "print(sample_tokens)"
      ],
      "metadata": {
        "id": "h9n-K7FwiTRw",
        "outputId": "e0fc9e29-4f32-4f9d-b45e-df9afa35f24a",
        "colab": {
          "base_uri": "https://localhost:8080/"
        }
      },
      "execution_count": 56,
      "outputs": [
        {
          "output_type": "stream",
          "name": "stdout",
          "text": [
            "['a', 'person', 'doing', 'a', 'trick', 'on', 'a', 'rail', 'while', 'riding', 'a', 'skateboard', '.']\n"
          ]
        }
      ]
    },
    {
      "cell_type": "code",
      "source": [
        "sample_caption = []\n",
        "start_word = data_loader.dataset.vocab.start_word\n",
        "print('Special start word:', start_word)\n",
        "sample_caption.append(data_loader.dataset.vocab(start_word))\n",
        "print(sample_caption)\n",
        "\n",
        "sample_caption.extend([data_loader.dataset.vocab(token) for token in sample_tokens])\n",
        "print(sample_caption)\n",
        "\n",
        "end_word = data_loader.dataset.vocab.end_word\n",
        "print('Special end word:', end_word)\n",
        "\n",
        "sample_caption.append(data_loader.dataset.vocab(end_word))\n",
        "print(sample_caption)\n",
        "\n",
        "import torch\n",
        "\n",
        "sample_caption = torch.Tensor(sample_caption).long()\n",
        "print(sample_caption)"
      ],
      "metadata": {
        "id": "CNKW1_paiey5",
        "outputId": "94806cbd-9d93-4558-8412-ce37b648c556",
        "colab": {
          "base_uri": "https://localhost:8080/"
        }
      },
      "execution_count": 57,
      "outputs": [
        {
          "output_type": "stream",
          "name": "stdout",
          "text": [
            "Special start word: <start>\n",
            "[0]\n",
            "[0, 3, 98, 754, 3, 396, 39, 3, 1010, 207, 139, 3, 753, 18]\n",
            "Special end word: <end>\n",
            "[0, 3, 98, 754, 3, 396, 39, 3, 1010, 207, 139, 3, 753, 18, 1]\n",
            "tensor([   0,    3,   98,  754,    3,  396,   39,    3, 1010,  207,  139,    3,\n",
            "         753,   18,    1])\n"
          ]
        }
      ]
    },
    {
      "cell_type": "code",
      "source": [
        "# Preview the word2idx dictionary.\n",
        "dict(list(data_loader.dataset.vocab.word2idx.items())[:10])"
      ],
      "metadata": {
        "id": "RPyiZeRmieCI",
        "outputId": "053bef9d-0bde-47de-ba9b-62b64e808d73",
        "colab": {
          "base_uri": "https://localhost:8080/"
        }
      },
      "execution_count": 58,
      "outputs": [
        {
          "output_type": "execute_result",
          "data": {
            "text/plain": [
              "{'<start>': 0,\n",
              " '<end>': 1,\n",
              " '<unk>': 2,\n",
              " 'a': 3,\n",
              " 'very': 4,\n",
              " 'clean': 5,\n",
              " 'and': 6,\n",
              " 'well': 7,\n",
              " 'decorated': 8,\n",
              " 'empty': 9}"
            ]
          },
          "metadata": {},
          "execution_count": 58
        }
      ]
    },
    {
      "cell_type": "code",
      "source": [
        "# Print the total number of keys in the word2idx dictionary.\n",
        "print('Total number of tokens in vocabulary:', len(data_loader.dataset.vocab))"
      ],
      "metadata": {
        "id": "r8FHyZenkVYm",
        "outputId": "35bcdb7d-16a4-41a7-a20e-5f0f4d98f86b",
        "colab": {
          "base_uri": "https://localhost:8080/"
        }
      },
      "execution_count": 59,
      "outputs": [
        {
          "output_type": "stream",
          "name": "stdout",
          "text": [
            "Total number of tokens in vocabulary: 8852\n"
          ]
        }
      ]
    },
    {
      "cell_type": "code",
      "source": [
        "# Modify the minimum word count threshold.\n",
        "vocab_threshold = 4\n",
        "\n",
        "# Obtain the data loader.\n",
        "data_loader = get_loader(transform=transform_train,\n",
        "                         mode='train',\n",
        "                         batch_size=batch_size,\n",
        "                         vocab_threshold=vocab_threshold,\n",
        "                         vocab_from_file=False)"
      ],
      "metadata": {
        "id": "FEaXZx2QktHx",
        "outputId": "3ca33f8a-1f55-4997-ecf4-69a687097ad8",
        "colab": {
          "base_uri": "https://localhost:8080/"
        }
      },
      "execution_count": 60,
      "outputs": [
        {
          "output_type": "stream",
          "name": "stdout",
          "text": [
            "loading annotations into memory...\n",
            "Done (t=0.99s)\n",
            "creating index...\n",
            "index created!\n",
            "[0/414113] Tokenizing captions...\n",
            "[100000/414113] Tokenizing captions...\n",
            "[200000/414113] Tokenizing captions...\n",
            "[300000/414113] Tokenizing captions...\n",
            "[400000/414113] Tokenizing captions...\n",
            "Vocabulary Successfully Saved to vocab.pkl file\n",
            "loading annotations into memory...\n",
            "Done (t=0.70s)\n",
            "creating index...\n",
            "index created!\n",
            "Obtaining Captions lengths...\n"
          ]
        },
        {
          "output_type": "stream",
          "name": "stderr",
          "text": [
            "100%|██████████| 414113/414113 [01:15<00:00, 5470.51it/s]\n"
          ]
        }
      ]
    },
    {
      "cell_type": "code",
      "source": [
        "# Print the total number of keys in the word2idx dictionary.\n",
        "print('Total number of tokens in vocabulary:', len(data_loader.dataset.vocab))"
      ],
      "metadata": {
        "id": "cpfpjUzrkwdI",
        "outputId": "34c51789-1ded-48a1-b24f-c4019536149c",
        "colab": {
          "base_uri": "https://localhost:8080/"
        }
      },
      "execution_count": 61,
      "outputs": [
        {
          "output_type": "stream",
          "name": "stdout",
          "text": [
            "Total number of tokens in vocabulary: 9947\n"
          ]
        }
      ]
    },
    {
      "cell_type": "code",
      "source": [
        "unk_word = data_loader.dataset.vocab.unk_word\n",
        "print('Special unknown word:', unk_word)\n",
        "\n",
        "print('All unknown words are mapped to this integer:', data_loader.dataset.vocab(unk_word))"
      ],
      "metadata": {
        "id": "ukJwJQqMlbXt",
        "outputId": "9b5cce3d-905b-40c9-db8a-b6bb8017c84c",
        "colab": {
          "base_uri": "https://localhost:8080/"
        }
      },
      "execution_count": 62,
      "outputs": [
        {
          "output_type": "stream",
          "name": "stdout",
          "text": [
            "Special unknown word: <unk>\n",
            "All unknown words are mapped to this integer: 2\n"
          ]
        }
      ]
    },
    {
      "cell_type": "code",
      "source": [
        "print(data_loader.dataset.vocab('jfkafejw'))\n",
        "print(data_loader.dataset.vocab('ieowoqjf'))"
      ],
      "metadata": {
        "id": "lTtTaVqLll7G",
        "outputId": "b177a90c-9fd4-47ff-8dfe-ea93c329b3fd",
        "colab": {
          "base_uri": "https://localhost:8080/"
        }
      },
      "execution_count": 63,
      "outputs": [
        {
          "output_type": "stream",
          "name": "stdout",
          "text": [
            "2\n",
            "2\n"
          ]
        }
      ]
    },
    {
      "cell_type": "code",
      "source": [
        "# Obtain the data loader (from file). Note that it runs much faster than before!\n",
        "data_loader = get_loader(transform=transform_train, mode='train', batch_size=batch_size, vocab_from_file=True)"
      ],
      "metadata": {
        "id": "wU55YpV0n4IX",
        "outputId": "dd04289e-fc3e-440d-ae09-a91c0b673bb6",
        "colab": {
          "base_uri": "https://localhost:8080/"
        }
      },
      "execution_count": 65,
      "outputs": [
        {
          "output_type": "stream",
          "name": "stdout",
          "text": [
            "Vocabulary Successfully Loaded from vocab.pkl file\n",
            "loading annotations into memory...\n",
            "Done (t=0.99s)\n",
            "creating index...\n",
            "index created!\n",
            "Obtaining Captions lengths...\n"
          ]
        },
        {
          "output_type": "stream",
          "name": "stderr",
          "text": [
            "100%|██████████| 414113/414113 [01:05<00:00, 6303.43it/s]\n"
          ]
        }
      ]
    },
    {
      "cell_type": "markdown",
      "source": [
        "# **Step 2: Use the Data Loader to Obtain Batches**\n",
        "The captions in the dataset vary greatly in length. We can see this by examining `data_loader.dataset.caption_lengths`, a Python list with one entry for each training caption (where the value stores the length of the corresponding caption).\n",
        "\n",
        "In the code cell below, we use this list to print the total number of captions in the training data with each length. b"
      ],
      "metadata": {
        "id": "KwqOepPyopsm"
      }
    },
    {
      "cell_type": "code",
      "source": [
        "counter = Counter(data_loader.dataset.caption_lengths)\n",
        "lengths = sorted(counter.items(), key=lambda pair: pair[1], reverse=True)\n",
        "for value, count in lengths:\n",
        "    print('value: %2d --- count: %5d' % (value, count))"
      ],
      "metadata": {
        "id": "kcBi1pzMooWw",
        "outputId": "5a192c2f-4594-4872-e211-340c7de84e0d",
        "colab": {
          "base_uri": "https://localhost:8080/"
        }
      },
      "execution_count": 68,
      "outputs": [
        {
          "output_type": "stream",
          "name": "stdout",
          "text": [
            "value: 10 --- count: 86302\n",
            "value: 11 --- count: 79971\n",
            "value:  9 --- count: 71920\n",
            "value: 12 --- count: 57653\n",
            "value: 13 --- count: 37668\n",
            "value: 14 --- count: 22342\n",
            "value:  8 --- count: 20742\n",
            "value: 15 --- count: 12839\n",
            "value: 16 --- count:  7736\n",
            "value: 17 --- count:  4845\n",
            "value: 18 --- count:  3101\n",
            "value: 19 --- count:  2017\n",
            "value:  7 --- count:  1594\n",
            "value: 20 --- count:  1453\n",
            "value: 21 --- count:   997\n",
            "value: 22 --- count:   683\n",
            "value: 23 --- count:   534\n",
            "value: 24 --- count:   384\n",
            "value: 25 --- count:   277\n",
            "value: 26 --- count:   214\n",
            "value: 27 --- count:   160\n",
            "value: 28 --- count:   114\n",
            "value: 29 --- count:    87\n",
            "value: 30 --- count:    58\n",
            "value: 31 --- count:    49\n",
            "value: 32 --- count:    44\n",
            "value: 34 --- count:    40\n",
            "value: 37 --- count:    32\n",
            "value: 35 --- count:    31\n",
            "value: 33 --- count:    30\n",
            "value: 36 --- count:    26\n",
            "value: 38 --- count:    18\n",
            "value: 39 --- count:    18\n",
            "value: 43 --- count:    16\n",
            "value: 44 --- count:    16\n",
            "value: 48 --- count:    12\n",
            "value: 45 --- count:    11\n",
            "value: 42 --- count:    10\n",
            "value: 40 --- count:     9\n",
            "value: 49 --- count:     9\n",
            "value: 46 --- count:     9\n",
            "value: 47 --- count:     7\n",
            "value: 50 --- count:     6\n",
            "value: 51 --- count:     6\n",
            "value: 41 --- count:     6\n",
            "value: 52 --- count:     5\n",
            "value: 54 --- count:     3\n",
            "value: 56 --- count:     2\n",
            "value:  6 --- count:     2\n",
            "value: 53 --- count:     2\n",
            "value: 55 --- count:     2\n",
            "value: 57 --- count:     1\n"
          ]
        }
      ]
    },
    {
      "cell_type": "markdown",
      "source": [
        "As we see above, the majority of captions have length 10. Likewise, very short and very long captions are quite rare."
      ],
      "metadata": {
        "id": "muhs0LaSpzNI"
      }
    },
    {
      "cell_type": "code",
      "source": [
        "aa"
      ],
      "metadata": {
        "id": "0PP5tpmgrSAX"
      },
      "execution_count": null,
      "outputs": []
    },
    {
      "cell_type": "code",
      "source": [],
      "metadata": {
        "id": "i5uxsxERsVtP"
      },
      "execution_count": null,
      "outputs": []
    },
    {
      "cell_type": "markdown",
      "source": [
        "To generate batches of training data, we begin by first sampling a caption length (where the probability that any length is drawn is proportional to the number of captions with that length in the dataset). Then, we retrieve a batch of size `batch_size` of image-caption pairs, where all captions have the sampled length.\n",
        "\n",
        "Run the code cell below to generate a batch. The `get_train_indices` method in the `CoCoDataset` class first samples a caption length, and then samples `batch_size` indices corresponding to training data points with captions of that length. These indices are stored below in `indices`.\n",
        "\n",
        "These indices are supplied to the data loader, which then is used to retrieve the corresponding data points. The pre-processed images and captions in the batch are stored in `images` and `captions`."
      ],
      "metadata": {
        "id": "3gbgUnVmsWZn"
      }
    },
    {
      "cell_type": "code",
      "source": [
        "# Randomly sample a caption length, and sample indices with that length.\n",
        "indices = data_loader.dataset.get_train_indices()\n",
        "print('sampled indices:', indices)\n",
        "\n",
        "# Create and assign a batch sampler to retrieve a batch with the sampled indices.\n",
        "new_sampler = data.sampler.SubsetRandomSampler(indices=indices)\n",
        "data_loader.batch_sampler.sampler = new_sampler\n",
        "\n",
        "# Obtain the batch.\n",
        "images, captions = next(iter(data_loader))\n",
        "\n",
        "print('images.shape:', images.shape)\n",
        "print('captions.shape:', captions.shape)\n",
        "\n",
        "# (Optional) Uncomment the lines of code below to print the pre-processed images and captions.\n",
        "# print('images:', images)\n",
        "# print('captions:', captions)"
      ],
      "metadata": {
        "id": "ET5uAtdjon_L",
        "outputId": "812da243-a684-4407-ffcc-d458d23aa207",
        "colab": {
          "base_uri": "https://localhost:8080/"
        }
      },
      "execution_count": 85,
      "outputs": [
        {
          "output_type": "stream",
          "name": "stdout",
          "text": [
            "sampled indices: [193462, 91845, 108544, 267006, 184516, 59909, 325555, 20386, 280466, 347079]\n",
            "images.shape: torch.Size([10, 3, 224, 224])\n",
            "captions.shape: torch.Size([10, 15])\n"
          ]
        }
      ]
    },
    {
      "cell_type": "markdown",
      "source": [
        "Each time we run the code cell above, a different caption length is sampled, and a different batch of training data is returned."
      ],
      "metadata": {
        "id": "HsjXdfY7tGXY"
      }
    },
    {
      "cell_type": "markdown",
      "source": [
        "## Step 3: Experiment with the CNN Encoder\n",
        "The encoder uses the pre-trained ResNet-50 architecture (with the final fully-connected layer removed) to extract features from a batch of pre-processed images. The output is then flattened to a vector, before being passed through a `Linear` layer to transform the feature vector to have the same size as the word embedding."
      ],
      "metadata": {
        "id": "8HLpBofmtc94"
      }
    },
    {
      "cell_type": "code",
      "source": [
        "# Define the EncoderCNN class, which inherits from nn.Module\n",
        "class EncoderCNN(nn.Module):\n",
        "    def __init__(self, embed_size):\n",
        "        super(EncoderCNN, self).__init__()  # Call the parent class's constructor\n",
        "\n",
        "        # Load a pre-trained ResNet-50 model\n",
        "        resnet = models.resnet50(weights=ResNet50_Weights.DEFAULT)\n",
        "\n",
        "        # Freeze the parameters of ResNet-50 so they are not updated during training\n",
        "        for param in resnet.parameters():\n",
        "            param.requires_grad_(False)\n",
        "\n",
        "        # Remove the final fully connected layer from ResNet-50\n",
        "        # This gives us a feature extractor\n",
        "        modules = list(resnet.children())[:-1]\n",
        "        self.resnet = nn.Sequential(*modules)  # Sequential container of the modified ResNet-50\n",
        "\n",
        "        # Define a new fully connected layer that maps the features to the desired embedding size\n",
        "        self.embed = nn.Linear(resnet.fc.in_features, embed_size)\n",
        "\n",
        "    def forward(self, images):\n",
        "        # Pass the input images through the modified ResNet-50 to extract features\n",
        "        features = self.resnet(images)\n",
        "\n",
        "        # Reshape the features tensor to have the shape (batch_size, -1)\n",
        "        # -1 is inferred from the remaining dimensions, which flattens the feature maps into vectors\n",
        "        features = features.view(features.size(0), -1)\n",
        "\n",
        "        # Pass the flattened features through the new fully connected layer to get the embeddings\n",
        "        features = self.embed(features)\n",
        "\n",
        "        return features  # Return the feature embeddings\n"
      ],
      "metadata": {
        "id": "denzvkPFonn0"
      },
      "execution_count": 97,
      "outputs": []
    },
    {
      "cell_type": "code",
      "source": [
        "device = torch.device(\"cuda\" if torch.cuda.is_available() else \"cpu\")\n",
        "device"
      ],
      "metadata": {
        "id": "1bVVd9E8onRs",
        "outputId": "7479390c-6ac1-411d-f24b-796af5cca774",
        "colab": {
          "base_uri": "https://localhost:8080/"
        }
      },
      "execution_count": 98,
      "outputs": [
        {
          "output_type": "execute_result",
          "data": {
            "text/plain": [
              "device(type='cpu')"
            ]
          },
          "metadata": {},
          "execution_count": 98
        }
      ]
    },
    {
      "cell_type": "code",
      "source": [
        "# Specify the dimensionality of the image embedding.\n",
        "embed_size = 256\n",
        "\n",
        "#-#-#-# Do NOT modify the code below this line. #-#-#-#\n",
        "\n",
        "# Initialize the encoder. (Optional: Add additional arguments if necessary.)\n",
        "encoder = EncoderCNN(embed_size)\n",
        "\n",
        "# Move the encoder to GPU if CUDA is available.\n",
        "encoder.to(device)\n",
        "\n",
        "# Move last batch of images (from Step 2) to GPU if CUDA is available.\n",
        "images = images.to(device)\n",
        "\n",
        "# Pass the images through the encoder.\n",
        "features = encoder(images)\n",
        "\n",
        "print('type(features):', type(features))\n",
        "print('features.shape:', features.shape)\n",
        "\n",
        "# Check that your encoder satisfies some requirements of the project! :D\n",
        "assert type(features)==torch.Tensor, \"Encoder output needs to be a PyTorch Tensor.\"\n",
        "assert (features.shape[0]==batch_size) & (features.shape[1]==embed_size), \"The shape of the encoder output is incorrect.\""
      ],
      "metadata": {
        "id": "7R6bDL_1om17",
        "outputId": "7187c16e-9dfc-4bf5-c47a-6cf077c6d254",
        "colab": {
          "base_uri": "https://localhost:8080/"
        }
      },
      "execution_count": 99,
      "outputs": [
        {
          "output_type": "stream",
          "name": "stderr",
          "text": [
            "Downloading: \"https://download.pytorch.org/models/resnet50-11ad3fa6.pth\" to /root/.cache/torch/hub/checkpoints/resnet50-11ad3fa6.pth\n",
            "100%|██████████| 97.8M/97.8M [00:00<00:00, 138MB/s]\n"
          ]
        },
        {
          "output_type": "stream",
          "name": "stdout",
          "text": [
            "type(features): <class 'torch.Tensor'>\n",
            "features.shape: torch.Size([10, 256])\n"
          ]
        }
      ]
    },
    {
      "cell_type": "code",
      "source": [
        "class DecoderRNN(nn.Module):\n",
        "    def __init__(self, embed_size, hidden_size, vocab_size, num_layers=1):\n",
        "        super(DecoderRNN, self).__init__()\n",
        "        self.embed_size = embed_size\n",
        "        self.hidden_size = hidden_size\n",
        "        self.vocab_size = vocab_size\n",
        "        self.num_layers = num_layers\n",
        "\n",
        "        # Define the embedding layer\n",
        "        self.word_embedding = nn.Embedding(self.vocab_size, self.embed_size)\n",
        "\n",
        "        self.lstm  = nn.LSTM(input_size = self.embed_size, hidden_size = self.hidden_size, num_layers = self.num_layers , batch_first = True )\n",
        "\n",
        "        self.fc = nn.Linear( self.hidden_size , self.vocab_size)\n",
        "\n",
        "    def init_hidden( self, batch_size ):\n",
        "      return (torch.zeros( self.num_layers , batch_size , self.hidden_size  ).to(device), torch.zeros( self.num_layers , batch_size , self.hidden_size  ).to(device) )\n",
        "\n",
        "    def forward(self, features, captions):\n",
        "        captions = captions[:,:-1]\n",
        "        self.batch_size = features.shape[0]\n",
        "        self.hidden = self.init_hidden(self.batch_size)\n",
        "        # Pass the features through the embedding layer\n",
        "        embeddings = self.word_embedding(captions)\n",
        "        # Concatenate the features and embeddings along the second dimension\n",
        "        inputs = torch.cat( ( features.unsqueeze(dim=1) , embeddings ) , dim =1  )\n",
        "        outputs, self.hidden = self.lstm(inputs, self.hidden)\n",
        "        outputs = self.fc(outputs)\n",
        "        return outputs\n",
        "\n",
        "    def sample(self, inputs, states=None, max_len=20):\n",
        "        \" accepts pre-processed image tensor (inputs) and returns predicted sentence (list of tensor ids of length max_len) \"\n",
        "        pass"
      ],
      "metadata": {
        "id": "kGDuQfkqolWN"
      },
      "execution_count": 107,
      "outputs": []
    },
    {
      "cell_type": "code",
      "source": [
        "hidden_size = 512\n",
        "\n",
        "#-#-#-# Do NOT modify the code below this line. #-#-#-#\n",
        "\n",
        "# Store the size of the vocabulary.\n",
        "vocab_size = len(data_loader.dataset.vocab)\n",
        "vocab_size\n",
        "\n",
        "decoder = DecoderRNN(embed_size, hidden_size, vocab_size)\n",
        "decoder\n",
        "# Move the decoder to GPU if CUDA is available.\n",
        "decoder.to(device)\n",
        "\n",
        "# Move last batch of captions (from Step 1) to GPU if CUDA is available\n",
        "captions = captions.to(device)\n",
        "\n",
        "# Pass the encoder output and captions through the decoder.\n",
        "outputs = decoder(features, captions)\n",
        "\n",
        "print('type(outputs):', type(outputs))\n",
        "print('outputs.shape:', outputs.shape)\n",
        "\n",
        "# Check that your decoder satisfies some requirements of the project! :D\n",
        "assert type(outputs)==torch.Tensor, \"Decoder output needs to be a PyTorch Tensor.\"\n",
        "assert (outputs.shape[0]==batch_size) & (outputs.shape[1]==captions.shape[1]) & (outputs.shape[2]==vocab_size), \"The shape of the decoder output is incorrect.\""
      ],
      "metadata": {
        "id": "M1BjcPyxGfio",
        "outputId": "4a86b2df-70a2-498f-98a0-ff4a39121565",
        "colab": {
          "base_uri": "https://localhost:8080/"
        }
      },
      "execution_count": 115,
      "outputs": [
        {
          "output_type": "stream",
          "name": "stdout",
          "text": [
            "type(outputs): <class 'torch.Tensor'>\n",
            "outputs.shape: torch.Size([10, 15, 9947])\n"
          ]
        }
      ]
    },
    {
      "cell_type": "code",
      "source": [
        "annotations_file='/content/opt/cocoapi/annotations/captions_train2014.json'\n",
        "coco_captions_test = COCO(annotations_file)\n",
        "caption_ids_test = list(coco_captions_test.anns.keys())\n",
        "id_test = caption_ids_test[24 : 26]\n",
        "vocab_threshold = 1\n",
        "\n",
        "counter_test = Counter()\n",
        "ids_test = coco.anns.keys()\n",
        "for i, id in enumerate(id_test):\n",
        "    caption_test = str(coco_captions_test.anns[id]['caption'])\n",
        "    print(caption_test)\n",
        "    tokens_test = nltk.tokenize.word_tokenize(caption_test.lower())\n",
        "    print(tokens_test)\n",
        "    counter_test.update(tokens_test)\n",
        "    print(counter_test)\n",
        "    print(\"#########\")\n",
        "\n",
        "words = [word for word, cnt in counter_test.items() if cnt >= vocab_threshold]\n",
        "word2idx = {}\n",
        "idx2word = {}\n",
        "idx = 0\n",
        "\n",
        "for i, word in enumerate(words):\n",
        "    if not word in word2idx:\n",
        "        word2idx[word] = idx\n",
        "        idx2word[idx] = word\n",
        "        idx += 1"
      ],
      "metadata": {
        "id": "lKjJSYxBrp4h",
        "outputId": "7d7384a7-85c3-4a29-e0a9-f7f1a1fbceac",
        "colab": {
          "base_uri": "https://localhost:8080/"
        }
      },
      "execution_count": 64,
      "outputs": [
        {
          "output_type": "stream",
          "name": "stdout",
          "text": [
            "loading annotations into memory...\n",
            "Done (t=1.54s)\n",
            "creating index...\n",
            "index created!\n",
            "Green tiled backsplash highlighted by low overhead lighting.\n",
            "['green', 'tiled', 'backsplash', 'highlighted', 'by', 'low', 'overhead', 'lighting', '.']\n",
            "Counter({'green': 1, 'tiled': 1, 'backsplash': 1, 'highlighted': 1, 'by': 1, 'low': 1, 'overhead': 1, 'lighting': 1, '.': 1})\n",
            "#########\n",
            "A bicycle is parked by a bench at night.\n",
            "['a', 'bicycle', 'is', 'parked', 'by', 'a', 'bench', 'at', 'night', '.']\n",
            "Counter({'by': 2, '.': 2, 'a': 2, 'green': 1, 'tiled': 1, 'backsplash': 1, 'highlighted': 1, 'low': 1, 'overhead': 1, 'lighting': 1, 'bicycle': 1, 'is': 1, 'parked': 1, 'bench': 1, 'at': 1, 'night': 1})\n",
            "#########\n"
          ]
        }
      ]
    },
    {
      "cell_type": "code",
      "source": [],
      "metadata": {
        "id": "RyYz--B2NaKo"
      },
      "execution_count": 106,
      "outputs": []
    },
    {
      "cell_type": "code",
      "source": [],
      "metadata": {
        "id": "Xy_CpJISw5H4"
      },
      "execution_count": null,
      "outputs": []
    }
  ]
}